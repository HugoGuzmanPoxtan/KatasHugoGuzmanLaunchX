{
 "cells": [
  {
   "cell_type": "markdown",
   "metadata": {},
   "source": [
    "## Ejercicio 1"
   ]
  },
  {
   "cell_type": "code",
   "execution_count": 6,
   "metadata": {},
   "outputs": [
    {
     "name": "stdout",
     "output_type": "stream",
     "text": [
      "Existen 9  planetas en el sistema solar.\n",
      "El ultimo planeta es Pluton\n"
     ]
    }
   ],
   "source": [
    "planets = ['Mercurio','Venus','Tierra','Marte','Jupiter','Saturno','Urano','Neptuno']\n",
    "planets.append('Pluton')\n",
    "Numero_planetas = len(planets)\n",
    "print('Existen', Numero_planetas, ' planetas en el sistema solar.')\n",
    "print('El ultimo planeta es', planets[-1])"
   ]
  },
  {
   "cell_type": "markdown",
   "metadata": {},
   "source": [
    "## Ejercicio 2"
   ]
  },
  {
   "cell_type": "code",
   "execution_count": 2,
   "metadata": {},
   "outputs": [
    {
     "name": "stdout",
     "output_type": "stream",
     "text": [
      "Aqui estan los planetas mas cercanos Saturno\n",
      "['Mercurio', 'Venus', 'Tierra', 'Marte', 'Jupiter']\n",
      "Los planetas mas alejados Saturno\n",
      "['Neptuno']\n"
     ]
    }
   ],
   "source": [
    "planetas = ['Mercurio', 'Venus', 'Tierra', 'Marte', 'Jupiter', 'Saturno', 'Neptuno']\n",
    "ing_pla = input(\"Ingrese el nombre de un planeta\")\n",
    "planeta_index = planetas.index(ing_pla)\n",
    "# Planetas mas cercanos del sol\n",
    "print('Aqui estan los planetas mas cercanos ' + ing_pla)\n",
    "print(planetas[0:planeta_index])\n",
    "# Planetas mas alejados del sol\n",
    "print('Los planetas mas alejados ' + ing_pla)\n",
    "print(planetas[planeta_index + 1:])"
   ]
  }
 ],
 "metadata": {
  "interpreter": {
   "hash": "df74e335838f2d2331bcf97ddc8fb47e7f265d9bbfb058c509af1317d8b17e92"
  },
  "kernelspec": {
   "display_name": "Python 3.10.2 64-bit",
   "language": "python",
   "name": "python3"
  },
  "language_info": {
   "codemirror_mode": {
    "name": "ipython",
    "version": 3
   },
   "file_extension": ".py",
   "mimetype": "text/x-python",
   "name": "python",
   "nbconvert_exporter": "python",
   "pygments_lexer": "ipython3",
   "version": "3.10.2"
  },
  "orig_nbformat": 4
 },
 "nbformat": 4,
 "nbformat_minor": 2
}
