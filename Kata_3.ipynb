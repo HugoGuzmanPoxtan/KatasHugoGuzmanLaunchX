{
 "cells": [
  {
   "cell_type": "markdown",
   "metadata": {},
   "source": [
    "## Ejercicio 1"
   ]
  },
  {
   "cell_type": "code",
   "execution_count": null,
   "metadata": {},
   "outputs": [],
   "source": [
    "asteroide = 49\n",
    "if asteroide > 25:\n",
    "    print(\"Se acerca un asteroide a maxima velocidad\")\n",
    "else:\n",
    "    print(\"No existe amenaza alguna\")"
   ]
  },
  {
   "cell_type": "markdown",
   "metadata": {},
   "source": [
    "## Ejercicio 2"
   ]
  },
  {
   "cell_type": "code",
   "execution_count": null,
   "metadata": {},
   "outputs": [],
   "source": [
    "asteroide = 19\n",
    "if asteroide > 20:\n",
    "    print(\"En el cielo hay una luz\")\n",
    "elif asteroide == 20:\n",
    "    print(\"Hay una luz en el cielo\")\n",
    "else:\n",
    "    print(\"No hay problema alguno\")"
   ]
  },
  {
   "cell_type": "markdown",
   "metadata": {},
   "source": [
    "## Ejercicio 3"
   ]
  },
  {
   "cell_type": "code",
   "execution_count": null,
   "metadata": {},
   "outputs": [],
   "source": [
    "vel_ast = 25\n",
    "tam_ast = 40\n",
    "if vel_ast > 25 and tam_ast > 25:\n",
    "    print(\"Se dirige un peligroso asteroide hacia nosotros\")\n",
    "elif vel_ast >= 20:\n",
    "    print(\"Hay un destello de luz en el cielo\")\n",
    "elif tam_ast <25:\n",
    "    print(\"No hay problema alguno\")\n",
    "else:\n",
    "    print(\"No hay problema alguno\")"
   ]
  }
 ],
 "metadata": {
  "language_info": {
   "name": "python"
  },
  "orig_nbformat": 4
 },
 "nbformat": 4,
 "nbformat_minor": 2
}
