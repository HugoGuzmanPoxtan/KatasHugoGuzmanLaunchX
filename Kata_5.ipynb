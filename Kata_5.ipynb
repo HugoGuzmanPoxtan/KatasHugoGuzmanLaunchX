{
 "cells": [
  {
   "cell_type": "markdown",
   "metadata": {},
   "source": [
    "## Ejercicio 1"
   ]
  },
  {
   "cell_type": "code",
   "execution_count": 2,
   "metadata": {},
   "outputs": [
    {
     "name": "stdout",
     "output_type": "stream",
     "text": [
      "628949330\n",
      "390577533.93\n"
     ]
    }
   ],
   "source": [
    "Tierra = 149597870\n",
    "Jupiter = 778547200\n",
    "\n",
    "distancia = Jupiter - Tierra\n",
    "\n",
    "print(distancia)\n",
    "\n",
    "dist_fin = distancia * 0.621\n",
    "\n",
    "print(dist_fin)"
   ]
  },
  {
   "cell_type": "markdown",
   "metadata": {},
   "source": [
    "## Ejercicio 2"
   ]
  },
  {
   "cell_type": "code",
   "execution_count": 5,
   "metadata": {},
   "outputs": [
    {
     "name": "stdout",
     "output_type": "stream",
     "text": [
      "91700000\n",
      "Distancia en millas\n",
      "56945700.0\n"
     ]
    }
   ],
   "source": [
    "dist_1 = input(\"Introduce la distancia del primer planeta\")\n",
    "dist_2 = input(\"Introduce la distancia del segundo planeta\")\n",
    "\n",
    "dist_1_f= int(dist_1)\n",
    "dist_2_f= int(dist_2)\n",
    "\n",
    "distancia= dist_2_f - dist_1_f\n",
    "\n",
    "print(abs(distancia))\n",
    "\n",
    "millas= distancia *0.621\n",
    "\n",
    "print(\"Distancia en millas\")\n",
    "print(abs(millas))"
   ]
  }
 ],
 "metadata": {
  "interpreter": {
   "hash": "df74e335838f2d2331bcf97ddc8fb47e7f265d9bbfb058c509af1317d8b17e92"
  },
  "kernelspec": {
   "display_name": "Python 3.10.2 64-bit",
   "language": "python",
   "name": "python3"
  },
  "language_info": {
   "codemirror_mode": {
    "name": "ipython",
    "version": 3
   },
   "file_extension": ".py",
   "mimetype": "text/x-python",
   "name": "python",
   "nbconvert_exporter": "python",
   "pygments_lexer": "ipython3",
   "version": "3.10.2"
  },
  "orig_nbformat": 4
 },
 "nbformat": 4,
 "nbformat_minor": 2
}
